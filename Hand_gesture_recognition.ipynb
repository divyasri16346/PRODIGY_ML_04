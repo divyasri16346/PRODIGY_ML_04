{
  "cells": [
    {
      "cell_type": "markdown",
      "source": [
        "ML INTERN at PRODIGY INFOTECH\n",
        "\n",
        "Task 4: Develop a hand gesture recognition model that can accurately identify and classify different hand gestures from image or video data,enabling intuitive human-computer interaction and gesture-based control systems.\n",
        "\n",
        "Dataset: https://www.kaggle.com/datasets/gti-upm/leapgestrecog"
      ],
      "metadata": {
        "id": "_47WTqY217Fs"
      }
    },
    {
      "cell_type": "markdown",
      "source": [
        "Import Libraries"
      ],
      "metadata": {
        "id": "UI6OgH2O3MRP"
      }
    },
    {
      "cell_type": "code",
      "execution_count": 1,
      "metadata": {
        "id": "7fVWxScI1id2"
      },
      "outputs": [],
      "source": [
        "import warnings\n",
        "warnings.filterwarnings('ignore')\n",
        "import keras\n",
        "import matplotlib.pyplot as plt # for plotting\n",
        "import os # provides a way of using operating system dependent functionality\n",
        "import cv2 #Image handling library\n",
        "import numpy as np\n",
        "\n",
        "# Import of keras model and hidden layers for our convolutional network\n",
        "from keras.layers import Conv2D, Activation, MaxPool2D, Dense, Flatten, Dropout"
      ]
    },
    {
      "cell_type": "markdown",
      "source": [
        "Load and explore data"
      ],
      "metadata": {
        "id": "Vf8PLs_03Pak"
      }
    },
    {
      "cell_type": "code",
      "execution_count": null,
      "metadata": {
        "id": "Dc4ZH0Pj2yaT"
      },
      "outputs": [],
      "source": [
        "CATEGORIES = [\"01_palm\", '02_l','03_fist','04_fist_moved','05_thumb','06_index','07_ok','08_palm_moved','09_c','10_down']\n",
        "IMG_SIZE = 50\n",
        "\n",
        "# paths for dataset\n",
        "data_path = \"../input/leapgestrecog/leapGestRecog\""
      ]
    },
    {
      "cell_type": "code",
      "execution_count": null,
      "metadata": {
        "colab": {
          "background_save": true
        },
        "id": "xZtkgaAi3Bft"
      },
      "outputs": [],
      "source": [
        "# Loading the images and their class(0 - 9)\n",
        "image_data = []\n",
        "for dr in os.listdir(data_path):\n",
        "    for category in CATEGORIES:\n",
        "        class_index = CATEGORIES.index(category)\n",
        "        path = os.path.join(data_path, dr, category)\n",
        "        for img in os.listdir(path):\n",
        "            try:\n",
        "                img_arr = cv2.imread(os.path.join(path, img), cv2.IMREAD_GRAYSCALE)\n",
        "                image_data.append([cv2.resize(img_arr, (IMG_SIZE, IMG_SIZE)), class_index])\n",
        "            except Exception as e:\n",
        "                pass\n",
        "image_data[0]"
      ]
    },
    {
      "cell_type": "code",
      "execution_count": null,
      "metadata": {
        "id": "LZFoNGg-3anM"
      },
      "outputs": [],
      "source": [
        "# shuffle the input data\n",
        "import random\n",
        "random.shuffle(image_data)"
      ]
    },
    {
      "cell_type": "code",
      "execution_count": null,
      "metadata": {
        "id": "32YbODHM3f78"
      },
      "outputs": [],
      "source": [
        "input_data = []\n",
        "label = []\n",
        "for X, y in image_data:\n",
        "    input_data.append(X)\n",
        "    label.append(y)"
      ]
    },
    {
      "cell_type": "code",
      "execution_count": null,
      "metadata": {
        "id": "A9tOF4VD3mFs"
      },
      "outputs": [],
      "source": [
        "label[:10]"
      ]
    },
    {
      "cell_type": "code",
      "execution_count": null,
      "metadata": {
        "id": "CzMG5QRK3ppL"
      },
      "outputs": [],
      "source": [
        "plt.figure(1, figsize=(10,10))\n",
        "for i in range(1,10):\n",
        "    plt.subplot(3,3,i)\n",
        "    plt.imshow(image_data[i][0], cmap='hot')\n",
        "    plt.xticks([])\n",
        "    plt.yticks([])\n",
        "    plt.title(CATEGORIES[label[i]][3:])\n",
        "plt.show()"
      ]
    },
    {
      "cell_type": "code",
      "execution_count": null,
      "metadata": {
        "id": "Ud2PzWQ73tWi"
      },
      "outputs": [],
      "source": [
        "# Normalizing the data\n",
        "input_data = np.array(input_data)\n",
        "label = np.array(label)\n",
        "input_data = input_data/255.0\n",
        "input_data.shape"
      ]
    },
    {
      "cell_type": "code",
      "execution_count": null,
      "metadata": {
        "id": "buSWfvv93w3s"
      },
      "outputs": [],
      "source": [
        "# one hot encoding\n",
        "label = keras.utils.to_categorical(label, num_classes=10,dtype='i1')\n",
        "label[0]"
      ]
    },
    {
      "cell_type": "code",
      "execution_count": null,
      "metadata": {
        "id": "rrgKEMij31Fg"
      },
      "outputs": [],
      "source": [
        "# reshaping the data\n",
        "input_data.shape = (-1, IMG_SIZE, IMG_SIZE, 1)"
      ]
    },
    {
      "cell_type": "code",
      "execution_count": null,
      "metadata": {
        "id": "AnQOhvVJ35QH"
      },
      "outputs": [],
      "source": [
        "# splitting the input_data to train and test data\n",
        "from sklearn.model_selection import train_test_split\n",
        "X_train, X_test, y_train, y_test = train_test_split(input_data, label, test_size = 0.3, random_state=0)"
      ]
    },
    {
      "cell_type": "code",
      "execution_count": null,
      "metadata": {
        "id": "MYu9fl5f3_LM"
      },
      "outputs": [],
      "source": [
        "model = keras.models.Sequential()\n",
        "\n",
        "model.add(Conv2D(filters = 32, kernel_size = (3,3), input_shape = (IMG_SIZE, IMG_SIZE, 1)))\n",
        "model.add(Activation('relu'))\n",
        "\n",
        "\n",
        "model.add(Conv2D(filters = 32, kernel_size = (3,3)))\n",
        "model.add(Activation('relu'))\n",
        "model.add(MaxPool2D(pool_size=(2,2)))\n",
        "model.add(Dropout(0.3))\n",
        "\n",
        "model.add(Conv2D(filters = 64, kernel_size = (3,3)))\n",
        "model.add(Activation('relu'))\n",
        "model.add(MaxPool2D(pool_size=(2,2)))\n",
        "model.add(Dropout(0.3))\n",
        "\n",
        "model.add(Flatten())\n",
        "model.add(Dense(256, activation='relu'))\n",
        "model.add(Dense(10, activation='softmax'))\n",
        "\n",
        "model.compile(loss='categorical_crossentropy',\n",
        "             optimizer = 'rmsprop',\n",
        "             metrics = ['accuracy'])"
      ]
    },
    {
      "cell_type": "code",
      "execution_count": null,
      "metadata": {
        "id": "s8p9NJPL4qXC"
      },
      "outputs": [],
      "source": [
        "model.fit(X_train, y_train, epochs = 7, batch_size=32, validation_data=(X_test, y_test))"
      ]
    },
    {
      "cell_type": "code",
      "execution_count": null,
      "metadata": {
        "id": "W93fNmqS4rIH"
      },
      "outputs": [],
      "source": [
        "model.summary()"
      ]
    },
    {
      "cell_type": "code",
      "execution_count": null,
      "metadata": {
        "id": "tC9yteUT4w8t"
      },
      "outputs": [],
      "source": [
        "plt.plot(model.history.history['loss'])\n",
        "plt.plot(model.history.history['val_loss'])\n",
        "plt.title('Model Loss')\n",
        "plt.ylabel('Loss')\n",
        "plt.xlabel('Epochs')\n",
        "plt.legend(['train', 'test'])\n",
        "plt.show()"
      ]
    },
    {
      "cell_type": "code",
      "execution_count": null,
      "metadata": {
        "id": "jJlmwFVr4x06"
      },
      "outputs": [],
      "source": [
        "plt.plot(model.history.history['accuracy'])\n",
        "plt.plot(model.history.history['val_accuracy'])\n",
        "plt.title('Model Accuracy')\n",
        "plt.ylabel('Accuracy')\n",
        "plt.xlabel('Epochs')\n",
        "plt.legend(['train', 'test'])\n",
        "plt.show()"
      ]
    },
    {
      "cell_type": "code",
      "execution_count": null,
      "metadata": {
        "id": "K6inXLns41KG"
      },
      "outputs": [],
      "source": [
        "#calculate loss and accuracy on test data\n",
        "\n",
        "test_loss, test_accuracy = model.evaluate(X_test, y_test)\n",
        "\n",
        "print('Test accuracy: {:2.2f}%'.format(test_accuracy*100))"
      ]
    },
    {
      "cell_type": "code",
      "execution_count": null,
      "metadata": {
        "id": "8rQca-xp437B"
      },
      "outputs": [],
      "source": [
        "from sklearn.metrics import confusion_matrix\n",
        "import seaborn as sn\n",
        "cat = [c[3:] for c in CATEGORIES]\n",
        "plt.figure(figsize=(10,10))\n",
        "cm = confusion_matrix(np.argmax(y_test, axis=1), np.argmax(model.predict(X_test), axis=1))\n",
        "sn.heatmap(cm, annot=True,xticklabels=cat, yticklabels=cat)\n",
        "plt.plot()"
      ]
    }
  ],
  "metadata": {
    "colab": {
      "provenance": []
    },
    "kernelspec": {
      "display_name": "Python 3",
      "name": "python3"
    },
    "language_info": {
      "name": "python"
    }
  },
  "nbformat": 4,
  "nbformat_minor": 0
}